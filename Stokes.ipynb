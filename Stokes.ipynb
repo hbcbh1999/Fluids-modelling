{
 "cells": [
  {
   "cell_type": "code",
   "execution_count": 2,
   "metadata": {},
   "outputs": [],
   "source": [
    "from __future__ import print_function\n",
    "from dolfin import *\n",
    "from fenics import *\n",
    "\n",
    "# Load mesh and subdomains\n",
    "mesh = Mesh(\"dolfin_fine.xml.gz\")\n",
    "sub_domains = MeshFunction(\"size_t\", mesh, \"dolfin_fine_subdomains.xml.gz\")\n",
    "\n",
    "dims_vals = [[2, 1], [2, 2], [2, 3], [3, 2]]\n",
    "\n",
    "for dims in dims_vals:\n",
    "\n",
    "    # Define function spaces\n",
    "    VE = VectorElement(\"CG\", mesh.ufl_cell(), dims[0])\n",
    "    QE = FiniteElement(\"CG\", mesh.ufl_cell(), dims[1])\n",
    "    VQE = MixedElement([VE, QE])\n",
    "    VQ = FunctionSpace(mesh, VQE)\n",
    "\n",
    "    # No-slip boundary condition for velocity\n",
    "    noslip = Constant((0, 0))\n",
    "    bc0 = DirichletBC(VQ.sub(0), noslip, sub_domains, 0)\n",
    "\n",
    "    # Inflow boundary condition for velocity\n",
    "    inflow = Expression((\"100.\", \"0.0\"), degree=1)\n",
    "    bc1 = DirichletBC(VQ.sub(0), inflow, sub_domains, 1)\n",
    "\n",
    "    # Boundary condition for pressure at outflow\n",
    "    zero = Constant(0)\n",
    "    bc2 = DirichletBC(VQ.sub(1), zero, sub_domains, 2)\n",
    "\n",
    "    # Collect boundary conditions\n",
    "    bcs = [bc0, bc1, bc2]\n",
    "\n",
    "    # Define variational problem\n",
    "    (u, p) = TrialFunctions(VQ)\n",
    "    (v, q) = TestFunctions(VQ)\n",
    "    f = Constant((0, 0))\n",
    "    a = (inner(grad(u), grad(v)) - div(v)*p + q*div(u))*dx\n",
    "    L = inner(f, v)*dx\n",
    "\n",
    "    # Compute solution\n",
    "    w = Function(VQ)\n",
    "    solve(a == L, w, bcs)\n",
    "\n",
    "    # Split the mixed solution using deepcopy\n",
    "    # (needed for further computation on coefficient vector)\n",
    "    (u, p) = w.split(True)\n",
    "\n",
    "    # Split the mixed solution using a shallow copy\n",
    "    (u, p) = w.split()\n",
    "\n",
    "    # Save solution in VTK format\n",
    "    ufile_pvd = File(\"results/Stokes/%d_%d_velocity.pvd\" % (dims[0], dims[1]))\n",
    "    ufile_pvd << u\n",
    "    pfile_pvd = File(\"results/Stokes/%d_%d_pressure.pvd\" % (dims[0], dims[1]))\n",
    "    pfile_pvd << p\n",
    "    "
   ]
  },
  {
   "cell_type": "markdown",
   "metadata": {},
   "source": [
    "Norm of velocity coefficient vector: 82.6530298211583\n",
    "\n",
    "Norm of pressure coefficient vector: 8170.9259320657"
   ]
  },
  {
   "cell_type": "code",
   "execution_count": 2,
   "metadata": {},
   "outputs": [
    {
     "data": {
      "text/plain": [
       "'2017.2.0'"
      ]
     },
     "execution_count": 2,
     "metadata": {},
     "output_type": "execute_result"
    }
   ],
   "source": [
    "dolfin.__version__"
   ]
  },
  {
   "cell_type": "code",
   "execution_count": null,
   "metadata": {
    "collapsed": true
   },
   "outputs": [],
   "source": []
  }
 ],
 "metadata": {
  "kernelspec": {
   "display_name": "Python [default]",
   "language": "python",
   "name": "python3"
  },
  "language_info": {
   "codemirror_mode": {
    "name": "ipython",
    "version": 3
   },
   "file_extension": ".py",
   "mimetype": "text/x-python",
   "name": "python",
   "nbconvert_exporter": "python",
   "pygments_lexer": "ipython3",
   "version": "3.6.1"
  }
 },
 "nbformat": 4,
 "nbformat_minor": 2
}
